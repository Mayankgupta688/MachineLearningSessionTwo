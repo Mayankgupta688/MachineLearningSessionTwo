{
 "cells": [
  {
   "cell_type": "code",
   "execution_count": 2,
   "metadata": {},
   "outputs": [],
   "source": [
    "import pandas as pd\n",
    "import numpy as np"
   ]
  },
  {
   "cell_type": "code",
   "execution_count": 3,
   "metadata": {},
   "outputs": [
    {
     "name": "stdout",
     "output_type": "stream",
     "text": [
      "             Position  Level   Salary\n",
      "0    Business Analyst    1.0    45000\n",
      "1   Junior Consultant    2.0    50000\n",
      "2   Junior Consultant    2.5    10000\n",
      "3   Senior Consultant    3.0    60000\n",
      "4             Manager    4.0    80000\n",
      "5     Country Manager    5.0   110000\n",
      "6      Region Manager    6.0   150000\n",
      "7             Partner    7.0   200000\n",
      "8      Senior Partner    8.0   300000\n",
      "9             C-level    9.0   500000\n",
      "10                CEO   10.0  1000000\n"
     ]
    }
   ],
   "source": [
    "dataset = pd.read_csv(\"../data/Position_Salaries.csv\")\n",
    "print(dataset)"
   ]
  },
  {
   "cell_type": "code",
   "execution_count": null,
   "metadata": {},
   "outputs": [],
   "source": [
    "X = dataset.iloc[:, 1]\n",
    "X = X.reshape(-1, 1)\n",
    "print(X)"
   ]
  }
 ],
 "metadata": {
  "kernelspec": {
   "display_name": "Python 3",
   "language": "python",
   "name": "python3"
  },
  "language_info": {
   "codemirror_mode": {
    "name": "ipython",
    "version": 3
   },
   "file_extension": ".py",
   "mimetype": "text/x-python",
   "name": "python",
   "nbconvert_exporter": "python",
   "pygments_lexer": "ipython3",
   "version": "3.7.6"
  }
 },
 "nbformat": 4,
 "nbformat_minor": 4
}
