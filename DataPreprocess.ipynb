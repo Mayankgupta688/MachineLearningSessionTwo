{
 "cells": [
  {
   "cell_type": "code",
   "execution_count": 93,
   "metadata": {},
   "outputs": [],
   "source": [
    "%config IPCompleter.greedy=True"
   ]
  },
  {
   "cell_type": "code",
   "execution_count": 94,
   "metadata": {},
   "outputs": [],
   "source": [
    "import pandas as pd\n",
    "import numpy as np"
   ]
  },
  {
   "cell_type": "code",
   "execution_count": 103,
   "metadata": {},
   "outputs": [],
   "source": [
    "dataset = pd.read_csv(\"./data/FirstDataset.csv\")"
   ]
  },
  {
   "cell_type": "code",
   "execution_count": 104,
   "metadata": {},
   "outputs": [
    {
     "name": "stdout",
     "output_type": "stream",
     "text": [
      "  Location   Age  Salary Bonus Offered\n",
      "0    Delhi  44.0   72000            No\n",
      "1   Mumbai   NaN   48000            No\n",
      "2   Mumbai  30.0   54000            No\n",
      "3    Delhi  38.0   61000            No\n",
      "4    Delhi  40.0   63000           Yes\n",
      "5   Mumbai  38.0   58000           Yes\n",
      "6  Chennai   NaN   52000            No\n",
      "7   Mumbai  48.0   79000           Yes\n",
      "8    Delhi  50.0   83000            No\n",
      "9   Mumbai  37.0   67000         Maybe\n"
     ]
    }
   ],
   "source": [
    "print(dataset)"
   ]
  },
  {
   "cell_type": "code",
   "execution_count": 97,
   "metadata": {},
   "outputs": [],
   "source": [
    "#dataset = dataset.dropna()\n",
    "#print(dataset)"
   ]
  },
  {
   "cell_type": "code",
   "execution_count": 98,
   "metadata": {},
   "outputs": [],
   "source": [
    "#dataset = dataset.replace(np.nan, 30)\n",
    "#print(dataset)"
   ]
  },
  {
   "cell_type": "code",
   "execution_count": 105,
   "metadata": {},
   "outputs": [
    {
     "name": "stdout",
     "output_type": "stream",
     "text": [
      "[['Delhi' 44.0 72000]\n",
      " ['Mumbai' nan 48000]\n",
      " ['Mumbai' 30.0 54000]\n",
      " ['Delhi' 38.0 61000]\n",
      " ['Delhi' 40.0 63000]\n",
      " ['Mumbai' 38.0 58000]\n",
      " ['Chennai' nan 52000]\n",
      " ['Mumbai' 48.0 79000]\n",
      " ['Delhi' 50.0 83000]\n",
      " ['Mumbai' 37.0 67000]]\n"
     ]
    }
   ],
   "source": [
    "X = dataset.iloc[:, 0:3].values\n",
    "print(X)"
   ]
  },
  {
   "cell_type": "code",
   "execution_count": 106,
   "metadata": {},
   "outputs": [
    {
     "name": "stdout",
     "output_type": "stream",
     "text": [
      "['No' 'No' 'No' 'No' 'Yes' 'Yes' 'No' 'Yes' 'No' 'Maybe']\n"
     ]
    }
   ],
   "source": [
    "y = dataset.iloc[:, 3].values\n",
    "print(y)"
   ]
  },
  {
   "cell_type": "code",
   "execution_count": 108,
   "metadata": {},
   "outputs": [
    {
     "name": "stdout",
     "output_type": "stream",
     "text": [
      "[['Delhi' 44.0 72000]\n",
      " ['Mumbai' 38.0 48000]\n",
      " ['Mumbai' 30.0 54000]\n",
      " ['Delhi' 38.0 61000]\n",
      " ['Delhi' 40.0 63000]\n",
      " ['Mumbai' 38.0 58000]\n",
      " ['Chennai' 38.0 52000]\n",
      " ['Mumbai' 48.0 79000]\n",
      " ['Delhi' 50.0 83000]\n",
      " ['Mumbai' 37.0 67000]]\n"
     ]
    }
   ],
   "source": [
    "from sklearn.impute import SimpleImputer\n",
    "imputer = SimpleImputer(missing_values=np.nan, strategy=\"most_frequent\")\n",
    "\n",
    "imputer.fit(X[:, 1:2])\n",
    "X[:, 1:2] = imputer.transform(X[:, 1:2])\n",
    "print(X)"
   ]
  },
  {
   "cell_type": "code",
   "execution_count": 110,
   "metadata": {},
   "outputs": [
    {
     "name": "stdout",
     "output_type": "stream",
     "text": [
      "[1 1 1 1 2 2 1 2 1 0]\n"
     ]
    }
   ],
   "source": [
    "from sklearn.preprocessing import LabelEncoder\n",
    "labelEncoder = LabelEncoder()\n",
    "y = labelEncoder.fit_transform(y)\n",
    "print(y)"
   ]
  },
  {
   "cell_type": "code",
   "execution_count": 115,
   "metadata": {},
   "outputs": [
    {
     "name": "stdout",
     "output_type": "stream",
     "text": [
      "[[0.0 1.0 0.0 44.0 72000]\n",
      " [0.0 0.0 1.0 38.0 48000]\n",
      " [0.0 0.0 1.0 30.0 54000]\n",
      " [0.0 1.0 0.0 38.0 61000]\n",
      " [0.0 1.0 0.0 40.0 63000]\n",
      " [0.0 0.0 1.0 38.0 58000]\n",
      " [1.0 0.0 0.0 38.0 52000]\n",
      " [0.0 0.0 1.0 48.0 79000]\n",
      " [0.0 1.0 0.0 50.0 83000]\n",
      " [0.0 0.0 1.0 37.0 67000]]\n"
     ]
    }
   ],
   "source": [
    "from sklearn.compose import ColumnTransformer\n",
    "from sklearn.preprocessing import OneHotEncoder\n",
    "oneHotEncoder = OneHotEncoder()\n",
    "\n",
    "ct = ColumnTransformer(transformers=[(\"encoder\", oneHotEncoder, [0])], remainder=\"passthrough\")\n",
    "X = ct.fit_transform(X)\n",
    "print(X)"
   ]
  },
  {
   "cell_type": "code",
   "execution_count": null,
   "metadata": {},
   "outputs": [],
   "source": []
  }
 ],
 "metadata": {
  "kernelspec": {
   "display_name": "Python 3",
   "language": "python",
   "name": "python3"
  },
  "language_info": {
   "codemirror_mode": {
    "name": "ipython",
    "version": 3
   },
   "file_extension": ".py",
   "mimetype": "text/x-python",
   "name": "python",
   "nbconvert_exporter": "python",
   "pygments_lexer": "ipython3",
   "version": "3.7.6"
  }
 },
 "nbformat": 4,
 "nbformat_minor": 4
}
